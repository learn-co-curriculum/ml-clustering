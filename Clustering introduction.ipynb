{
 "cells": [
  {
   "cell_type": "markdown",
   "metadata": {},
   "source": [
    "# Clustering"
   ]
  },
  {
   "cell_type": "markdown",
   "metadata": {},
   "source": [
    "## 1. Introduction"
   ]
  },
  {
   "cell_type": "markdown",
   "metadata": {},
   "source": [
    "Clustering techniques are among the most popular unsupervised machine learning algorithms. The main idea behind clustering is that you want to group objects into similar classes, in a way that:\n",
    "\n",
    "- intra-class similarity is high\n",
    "- inter-class similarity is low\n",
    "\n",
    "What does *similarity* mean? You should be thinking of it in terms of *distance*.\n",
    "\n",
    "When thinking about clustering, is useful to make a distinction between *hierarchical* and *nonhierarchical* clustering algorithms:\n",
    "\n",
    "- In cluster analysis, an **agglomerative hierarchical** algorithm starts with *n* clusters (where *n* is the number of observations, so each observation is a cluster), then combines the two most similar clusters, combines the next two most similar clusters, and so on. A **divisive** hierarchical algorithm does the exact opposite, going from 1 to *n* clusters.\n",
    "\n",
    "- A **nonhierarchical** algorithm chooses *k* initial clusters and reassigns observations until no improvement can be obtained. How initial clusters and reassignemnts are done depends on the specific type of algorithm.\n",
    "\n",
    "An essential understanding when using clustering methods is that you are basically trying to group data points together without actually knowing what the _actual_ cluster/classes are. This is also the main distinction between clustering and classification (which is a *supervised* learning method). This is why technically, you also don't know how many clusters you're looking for."
   ]
  },
  {
   "cell_type": "markdown",
   "metadata": {},
   "source": [
    "## 2. Non-hierarchical algorithms: k-means clustering"
   ]
  },
  {
   "cell_type": "markdown",
   "metadata": {},
   "source": [
    "k means clustering is the most well-known clustering technique, and belongs to the class of non-hierarchical clustering methods. When performing k-means clustering, you're essentially trying to find $k$ cluster centers as the mean of the data points that belong to these clusters.\n",
    "One thing about k means clustering that makes k means clustering challenging is that the number *k* needs to be decided upon before you start running the algorithm."
   ]
  },
  {
   "cell_type": "markdown",
   "metadata": {},
   "source": [
    "### 2.1  The algorithm"
   ]
  },
  {
   "cell_type": "markdown",
   "metadata": {},
   "source": [
    "The k means clustering algorithm is an iterative algorithm that rearches for a pre-determined number of clusters within an unlabeled dataset, and basically works as follows:\n",
    "\n",
    "- select k initial seeds\n",
    "- assign each observation to the clusted to which it is \"closest\" \n",
    "- recompute the cluster centroids\n",
    "- reassign the observations to one of the clusters according to some rule\n",
    "- stop if there is no reallocation.\n",
    "\n",
    "Two assumptions are of main importance for the k means clustering algorithm.\n",
    "\n",
    "1. To compute the \"cluster center\", you calculate the (arithmetic) mean of all the points belonging to the cluster.\n",
    "2. Reassigning works in a way that each point is closer to its own cluster center than to other cluster centers."
   ]
  },
  {
   "cell_type": "markdown",
   "metadata": {},
   "source": [
    "## 3. Hierarchical Clustering\n",
    "\n",
    "hierarchical clustering refers to a collection of clustering algorithms that all build\n",
    "upon the same principles: The algorithm starts by declaring each point its own cluster,\n",
    "and then merges the two most similar clusters until some stopping criterion is\n",
    "satisfied."
   ]
  },
  {
   "cell_type": "markdown",
   "metadata": {},
   "source": [
    "k means clustering\n",
    "\n",
    "agglomerative clustering\n",
    "\n",
    "DBSCAN"
   ]
  },
  {
   "cell_type": "markdown",
   "metadata": {},
   "source": [
    "# Sources"
   ]
  },
  {
   "cell_type": "markdown",
   "metadata": {},
   "source": [
    "Guido and Müller"
   ]
  },
  {
   "cell_type": "code",
   "execution_count": null,
   "metadata": {},
   "outputs": [],
   "source": []
  }
 ],
 "metadata": {
  "kernelspec": {
   "display_name": "Python 3",
   "language": "python",
   "name": "python3"
  },
  "language_info": {
   "codemirror_mode": {
    "name": "ipython",
    "version": 3
   },
   "file_extension": ".py",
   "mimetype": "text/x-python",
   "name": "python",
   "nbconvert_exporter": "python",
   "pygments_lexer": "ipython3",
   "version": "3.6.4"
  }
 },
 "nbformat": 4,
 "nbformat_minor": 2
}
